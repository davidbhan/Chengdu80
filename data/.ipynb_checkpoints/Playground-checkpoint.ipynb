{
 "cells": [
  {
   "cell_type": "code",
   "execution_count": 3,
   "metadata": {
    "collapsed": true
   },
   "outputs": [],
   "source": [
    "import pandas as pd\n",
    "import requests\n",
    "import json"
   ]
  },
  {
   "cell_type": "code",
   "execution_count": 5,
   "metadata": {
    "collapsed": true
   },
   "outputs": [],
   "source": [
    "data={\n",
    "    \"size\": 10,\n",
    "    \"query\": {\n",
    "        \"bool\": {\n",
    "            \"must\": [],\n",
    "            \"filter\": [{\n",
    "                \"multi_match\": {\n",
    "                    \"type\": \"best_fields\",\n",
    "                    \"query\": \"finance\",\n",
    "                    \"lenient\": \"true\"\n",
    "                }\n",
    "            }],\n",
    "            \"should\": [],\n",
    "            \"must_not\": []\n",
    "        }\n",
    "    }\n",
    "}"
   ]
  },
  {
   "cell_type": "code",
   "execution_count": 6,
   "metadata": {},
   "outputs": [],
   "source": [
    "r = requests.post(\"https://search-gp06chengdu80-37opvyh5nd4c4qqyuviicsouvy.us-east-2.es.amazonaws.com/cleanpapers/_search\",json=data)"
   ]
  },
  {
   "cell_type": "code",
   "execution_count": 7,
   "metadata": {
    "collapsed": true
   },
   "outputs": [],
   "source": [
    "papers = r.json()[\"hits\"][\"hits\"]"
   ]
  },
  {
   "cell_type": "code",
   "execution_count": 8,
   "metadata": {},
   "outputs": [
    {
     "data": {
      "text/plain": [
       "10"
      ]
     },
     "execution_count": 8,
     "metadata": {},
     "output_type": "execute_result"
    }
   ],
   "source": [
    "len(papers)"
   ]
  },
  {
   "cell_type": "code",
   "execution_count": 9,
   "metadata": {},
   "outputs": [
    {
     "data": {
      "text/plain": [
       "'{\"_index\": \"cleanpapers\", \"_type\": \"_doc\", \"_id\": \"2027213764\", \"_score\": 0.0, \"_source\": {\"rank\": 22886, \"fields_of_study\": [\"Seasonality\", \"Replicating portfolio\", \"Rational expectations\", \"Project portfolio management\", \"Post-modern portfolio theory\", \"Portfolio optimization\", \"Portfolio\", \"Microeconomics\", \"Financial economics\", \"Finance\", \"Economics\"], \"venue\": {\"venue_published_date\": \"1978-08-01T00:00:00Z\", \"venue_display_name\": \"Journal of Monetary Economics\"}, \"source_list\": [\"https://www.sciencedirect.com/science/article/abs/pii/0304393278900417\"], \"author_list\": [{\"institution_name\": \"University of Minnesota\", \"institution_id\": 130238516, \"author_name\": \"Rusdu Saracoglu\", \"author_id\": 2742897677}, {\"institution_name\": \"University of Minnesota\", \"institution_id\": 130238516, \"author_name\": \"Thomas J. Sargent\", \"author_id\": 2090569453}], \"related_papers\": [2732168531, 2026103080, 1977166848, 2152717893, 156100760, 1601312305, 2743371292, 1976658031, 1554564721, 1916618105, 1613629337, 2734601382, 2349109577, 1019772789, 1859886246, 641429144, 2128872245, 2011180631, 2911417956, 2744043322, 2732168531, 2026103080, 1977166848, 2152717893, 156100760, 1601312305, 2743371292, 1976658031, 1554564721, 1916618105, 1613629337, 2734601382, 2349109577, 1019772789, 1859886246, 641429144, 2128872245, 2011180631, 2911417956, 2744043322], \"author_count\": 2, \"paper_id\": 2027213764, \"title\": \"Seasonality and portfolio balance under rational expectations\", \"abstract\": \"\", \"citation_count\": 16}}'"
      ]
     },
     "execution_count": 9,
     "metadata": {},
     "output_type": "execute_result"
    }
   ],
   "source": [
    "json.dumps(papers[0])"
   ]
  },
  {
   "cell_type": "code",
   "execution_count": 108,
   "metadata": {},
   "outputs": [
    {
     "name": "stderr",
     "output_type": "stream",
     "text": [
      "ERROR:root:Internal Python error in the inspect module.\n",
      "Below is the traceback from this internal error.\n",
      "\n"
     ]
    },
    {
     "name": "stdout",
     "output_type": "stream",
     "text": [
      "Traceback (most recent call last):\n",
      "  File \"/Users/wali/anaconda3/lib/python3.6/site-packages/IPython/core/interactiveshell.py\", line 2862, in run_code\n",
      "    exec(code_obj, self.user_global_ns, self.user_ns)\n",
      "  File \"<ipython-input-108-2823f669195c>\", line 4, in <module>\n",
      "    topics = [{\"id\":fieldOfStudy[\"id\"],\"name\":fieldOfStudy[\"displayName\"]} for fieldOfStudy in paper[\"fieldsOfStudy\"]]\n",
      "KeyError: 'fieldsOfStudy'\n",
      "\n",
      "During handling of the above exception, another exception occurred:\n",
      "\n",
      "Traceback (most recent call last):\n",
      "  File \"/Users/wali/anaconda3/lib/python3.6/site-packages/IPython/core/interactiveshell.py\", line 1806, in showtraceback\n",
      "    stb = value._render_traceback_()\n",
      "AttributeError: 'KeyError' object has no attribute '_render_traceback_'\n",
      "\n",
      "During handling of the above exception, another exception occurred:\n",
      "\n",
      "Traceback (most recent call last):\n",
      "  File \"/Users/wali/anaconda3/lib/python3.6/site-packages/IPython/core/ultratb.py\", line 1090, in get_records\n",
      "    return _fixed_getinnerframes(etb, number_of_lines_of_context, tb_offset)\n",
      "  File \"/Users/wali/anaconda3/lib/python3.6/site-packages/IPython/core/ultratb.py\", line 311, in wrapped\n",
      "    return f(*args, **kwargs)\n",
      "  File \"/Users/wali/anaconda3/lib/python3.6/site-packages/IPython/core/ultratb.py\", line 345, in _fixed_getinnerframes\n",
      "    records = fix_frame_records_filenames(inspect.getinnerframes(etb, context))\n",
      "  File \"/Users/wali/anaconda3/lib/python3.6/inspect.py\", line 1480, in getinnerframes\n",
      "    frameinfo = (tb.tb_frame,) + getframeinfo(tb, context)\n",
      "  File \"/Users/wali/anaconda3/lib/python3.6/inspect.py\", line 1438, in getframeinfo\n",
      "    filename = getsourcefile(frame) or getfile(frame)\n",
      "  File \"/Users/wali/anaconda3/lib/python3.6/inspect.py\", line 693, in getsourcefile\n",
      "    if getattr(getmodule(object, filename), '__loader__', None) is not None:\n",
      "  File \"/Users/wali/anaconda3/lib/python3.6/inspect.py\", line 722, in getmodule\n",
      "    file = getabsfile(object, _filename)\n",
      "  File \"/Users/wali/anaconda3/lib/python3.6/inspect.py\", line 706, in getabsfile\n",
      "    return os.path.normcase(os.path.abspath(_filename))\n",
      "  File \"/Users/wali/anaconda3/lib/python3.6/posixpath.py\", line 374, in abspath\n",
      "    cwd = os.getcwd()\n",
      "FileNotFoundError: [Errno 2] No such file or directory\n"
     ]
    },
    {
     "ename": "KeyError",
     "evalue": "'fieldsOfStudy'",
     "output_type": "error",
     "traceback": [
      "\u001b[0;31m---------------------------------------------------------------------------\u001b[0m"
     ]
    }
   ],
   "source": [
    "cleaned_data = []\n",
    "for p in papers[:1]:\n",
    "    paper = p[\"_source\"]\n",
    "    topics = [{\"id\":fieldOfStudy[\"id\"],\"name\":fieldOfStudy[\"displayName\"]} for fieldOfStudy in paper[\"fieldsOfStudy\"]]\n",
    "    authors = [{\"id\":author[\"id\"],\"name\":author[\"displayName\"]} for author in paper[\"authors\"]]\n",
    "    publishedDate = None\n",
    "    publication = None\n",
    "    if paper[\"venueInfo\"]:\n",
    "        venue = paper[\"venueInfo\"]\n",
    "        publication = {\"id\":venue[\"id\"],\"name\":venue[\"displayName\"]}\n",
    "        publishedDate = venue[\"publishedDate\"]\n",
    "    print(publication)\n",
    "    print(paper[\"displayName\"])\n",
    "print(cleaned_data)"
   ]
  },
  {
   "cell_type": "code",
   "execution_count": null,
   "metadata": {
    "collapsed": true
   },
   "outputs": [],
   "source": []
  }
 ],
 "metadata": {
  "kernelspec": {
   "display_name": "Python 3",
   "language": "python",
   "name": "python3"
  },
  "language_info": {
   "codemirror_mode": {
    "name": "ipython",
    "version": 3
   },
   "file_extension": ".py",
   "mimetype": "text/x-python",
   "name": "python",
   "nbconvert_exporter": "python",
   "pygments_lexer": "ipython3",
   "version": "3.6.2"
  }
 },
 "nbformat": 4,
 "nbformat_minor": 2
}
