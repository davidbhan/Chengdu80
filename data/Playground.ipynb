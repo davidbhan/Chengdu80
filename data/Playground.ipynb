{
 "cells": [
  {
   "cell_type": "code",
   "execution_count": 86,
   "metadata": {
    "collapsed": true
   },
   "outputs": [],
   "source": [
    "import pandas as pd\n",
    "import requests\n",
    "import json"
   ]
  },
  {
   "cell_type": "code",
   "execution_count": 78,
   "metadata": {},
   "outputs": [],
   "source": [
    "data={\n",
    "    \"size\": 100,\n",
    "    \"query\": {\n",
    "        \"bool\": {\n",
    "            \"must\": [],\n",
    "            \"filter\": [{\n",
    "                \"multi_match\": {\n",
    "                    \"type\": \"best_fields\",\n",
    "                    \"query\": \"finance\",\n",
    "                    \"lenient\": \"true\"\n",
    "                }\n",
    "            }],\n",
    "            \"should\": [],\n",
    "            \"must_not\": []\n",
    "        }\n",
    "    }\n",
    "}"
   ]
  },
  {
   "cell_type": "code",
   "execution_count": 79,
   "metadata": {},
   "outputs": [],
   "source": [
    "r = requests.post(\"https://search-gp06chengdu80-37opvyh5nd4c4qqyuviicsouvy.us-east-2.es.amazonaws.com/papers/_search\",json=data)"
   ]
  },
  {
   "cell_type": "code",
   "execution_count": 80,
   "metadata": {},
   "outputs": [],
   "source": [
    "papers = r.json()[\"hits\"][\"hits\"]"
   ]
  },
  {
   "cell_type": "code",
   "execution_count": 81,
   "metadata": {},
   "outputs": [
    {
     "data": {
      "text/plain": [
       "100"
      ]
     },
     "execution_count": 81,
     "metadata": {},
     "output_type": "execute_result"
    }
   ],
   "source": [
    "len(papers)"
   ]
  },
  {
   "cell_type": "code",
   "execution_count": 99,
   "metadata": {},
   "outputs": [
    {
     "name": "stdout",
     "output_type": "stream",
     "text": [
      "{'id': 199780354, 'name': 'Business Lawyer'}\n",
      "Rolling Back the Repo Safe Harbors\n",
      "[]\n"
     ]
    }
   ],
   "source": [
    "cleaned_data = []\n",
    "for p in papers[:1]:\n",
    "    paper = p[\"_source\"]\n",
    "    topics = [{\"id\":fieldOfStudy[\"id\"],\"name\":fieldOfStudy[\"displayName\"]} for fieldOfStudy in paper[\"fieldsOfStudy\"]]\n",
    "    authors = [{\"id\":author[\"id\"],\"name\":author[\"displayName\"]} for author in paper[\"authors\"]]\n",
    "    publishedDate = None\n",
    "    publication = None\n",
    "    if paper[\"venueInfo\"]:\n",
    "        venue = paper[\"venueInfo\"]\n",
    "        publication = {\"id\":venue[\"id\"],\"name\":venue[\"displayName\"]}\n",
    "        publishedDate = venue[\"publishedDate\"]\n",
    "    print(publication)\n",
    "    print(paper[\"displayName\"])\n",
    "print(cleaned_data)"
   ]
  },
  {
   "cell_type": "code",
   "execution_count": null,
   "metadata": {
    "collapsed": true
   },
   "outputs": [],
   "source": []
  }
 ],
 "metadata": {
  "kernelspec": {
   "display_name": "Python 3",
   "language": "python",
   "name": "python3"
  },
  "language_info": {
   "codemirror_mode": {
    "name": "ipython",
    "version": 3
   },
   "file_extension": ".py",
   "mimetype": "text/x-python",
   "name": "python",
   "nbconvert_exporter": "python",
   "pygments_lexer": "ipython3",
   "version": "3.6.2"
  }
 },
 "nbformat": 4,
 "nbformat_minor": 2
}
