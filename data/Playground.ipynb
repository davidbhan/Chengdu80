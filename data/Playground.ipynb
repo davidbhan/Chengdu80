{
 "cells": [
  {
   "cell_type": "code",
   "execution_count": 86,
   "metadata": {
    "collapsed": true
   },
   "outputs": [],
   "source": [
    "import pandas as pd\n",
    "import requests\n",
    "import json"
   ]
  },
  {
   "cell_type": "code",
   "execution_count": 110,
   "metadata": {
    "collapsed": true
   },
   "outputs": [],
   "source": [
    "data={\n",
    "    \"size\": 100,\n",
    "    \"query\": {\n",
    "        \"bool\": {\n",
    "            \"must\": [],\n",
    "            \"filter\": [{\n",
    "                \"multi_match\": {\n",
    "                    \"type\": \"best_fields\",\n",
    "                    \"query\": \"finance\",\n",
    "                    \"lenient\": \"true\"\n",
    "                }\n",
    "            }],\n",
    "            \"should\": [],\n",
    "            \"must_not\": []\n",
    "        }\n",
    "    }\n",
    "}"
   ]
  },
  {
   "cell_type": "code",
   "execution_count": 111,
   "metadata": {
    "collapsed": true
   },
   "outputs": [],
   "source": [
    "r = requests.post(\"https://search-gp06chengdu80-37opvyh5nd4c4qqyuviicsouvy.us-east-2.es.amazonaws.com/cleanpapers/_search\",json=data)"
   ]
  },
  {
   "cell_type": "code",
   "execution_count": 112,
   "metadata": {},
   "outputs": [],
   "source": [
    "papers = r.json()[\"hits\"][\"hits\"]"
   ]
  },
  {
   "cell_type": "code",
   "execution_count": 113,
   "metadata": {},
   "outputs": [
    {
     "data": {
      "text/plain": [
       "100"
      ]
     },
     "execution_count": 113,
     "metadata": {},
     "output_type": "execute_result"
    }
   ],
   "source": [
    "len(papers)"
   ]
  },
  {
   "cell_type": "code",
   "execution_count": 109,
   "metadata": {},
   "outputs": [
    {
     "data": {
      "text/plain": [
       "'{\"_index\": \"cleanpapers\", \"_type\": \"_doc\", \"_id\": \"vl26Gm4BiqBp2bTAu2MH\", \"_score\": 0.0, \"_source\": {\"rank\": 22934, \"fields_of_study\": [\"Welfare\", \"Incentive program\", \"Incentive\", \"Finance\", \"Economic policy\", \"Business\"], \"venue\": {\"venue_published_date\": \"1996-01-01T00:00:00Z\", \"venue_display_name\": null}, \"source_list\": [], \"author_list\": [{\"institution_name\": null, \"institution_id\": 0, \"author_name\": \"David Card\", \"author_id\": 2559352217}, {\"institution_name\": null, \"institution_id\": 0, \"author_name\": \"Philip Kenneth Robins\", \"author_id\": 2158510105}], \"related_papers\": [2890472070, 2482556062, 2020064082, 138985602, 2548901119, 2124186733, 2416750285, 2180234898, 2009129690, 2070959813, 2169581903, 2004671543, 1920778524, 1494893987, 2567165813, 60594708, 2213511256, 2891190138, 1509903578, 2091907355, 2890472070, 2482556062, 2020064082, 138985602, 2548901119, 2124186733, 2416750285, 2180234898, 2009129690, 2070959813, 2169581903, 2004671543, 1920778524, 1494893987, 2567165813, 60594708, 2213511256, 2891190138, 1509903578, 2091907355], \"author_count\": 2, \"paper_id\": 76391014, \"title\": \"Do Financial Incentive Encourage Welfare Recipients to Work\", \"abstract\": \"\", \"citation_count\": 2}}'"
      ]
     },
     "execution_count": 109,
     "metadata": {},
     "output_type": "execute_result"
    }
   ],
   "source": [
    "json.dumps(papers[0])"
   ]
  },
  {
   "cell_type": "code",
   "execution_count": 108,
   "metadata": {},
   "outputs": [
    {
     "name": "stderr",
     "output_type": "stream",
     "text": [
      "ERROR:root:Internal Python error in the inspect module.\n",
      "Below is the traceback from this internal error.\n",
      "\n"
     ]
    },
    {
     "name": "stdout",
     "output_type": "stream",
     "text": [
      "Traceback (most recent call last):\n",
      "  File \"/Users/wali/anaconda3/lib/python3.6/site-packages/IPython/core/interactiveshell.py\", line 2862, in run_code\n",
      "    exec(code_obj, self.user_global_ns, self.user_ns)\n",
      "  File \"<ipython-input-108-2823f669195c>\", line 4, in <module>\n",
      "    topics = [{\"id\":fieldOfStudy[\"id\"],\"name\":fieldOfStudy[\"displayName\"]} for fieldOfStudy in paper[\"fieldsOfStudy\"]]\n",
      "KeyError: 'fieldsOfStudy'\n",
      "\n",
      "During handling of the above exception, another exception occurred:\n",
      "\n",
      "Traceback (most recent call last):\n",
      "  File \"/Users/wali/anaconda3/lib/python3.6/site-packages/IPython/core/interactiveshell.py\", line 1806, in showtraceback\n",
      "    stb = value._render_traceback_()\n",
      "AttributeError: 'KeyError' object has no attribute '_render_traceback_'\n",
      "\n",
      "During handling of the above exception, another exception occurred:\n",
      "\n",
      "Traceback (most recent call last):\n",
      "  File \"/Users/wali/anaconda3/lib/python3.6/site-packages/IPython/core/ultratb.py\", line 1090, in get_records\n",
      "    return _fixed_getinnerframes(etb, number_of_lines_of_context, tb_offset)\n",
      "  File \"/Users/wali/anaconda3/lib/python3.6/site-packages/IPython/core/ultratb.py\", line 311, in wrapped\n",
      "    return f(*args, **kwargs)\n",
      "  File \"/Users/wali/anaconda3/lib/python3.6/site-packages/IPython/core/ultratb.py\", line 345, in _fixed_getinnerframes\n",
      "    records = fix_frame_records_filenames(inspect.getinnerframes(etb, context))\n",
      "  File \"/Users/wali/anaconda3/lib/python3.6/inspect.py\", line 1480, in getinnerframes\n",
      "    frameinfo = (tb.tb_frame,) + getframeinfo(tb, context)\n",
      "  File \"/Users/wali/anaconda3/lib/python3.6/inspect.py\", line 1438, in getframeinfo\n",
      "    filename = getsourcefile(frame) or getfile(frame)\n",
      "  File \"/Users/wali/anaconda3/lib/python3.6/inspect.py\", line 693, in getsourcefile\n",
      "    if getattr(getmodule(object, filename), '__loader__', None) is not None:\n",
      "  File \"/Users/wali/anaconda3/lib/python3.6/inspect.py\", line 722, in getmodule\n",
      "    file = getabsfile(object, _filename)\n",
      "  File \"/Users/wali/anaconda3/lib/python3.6/inspect.py\", line 706, in getabsfile\n",
      "    return os.path.normcase(os.path.abspath(_filename))\n",
      "  File \"/Users/wali/anaconda3/lib/python3.6/posixpath.py\", line 374, in abspath\n",
      "    cwd = os.getcwd()\n",
      "FileNotFoundError: [Errno 2] No such file or directory\n"
     ]
    },
    {
     "ename": "KeyError",
     "evalue": "'fieldsOfStudy'",
     "output_type": "error",
     "traceback": [
      "\u001b[0;31m---------------------------------------------------------------------------\u001b[0m"
     ]
    }
   ],
   "source": [
    "cleaned_data = []\n",
    "for p in papers[:1]:\n",
    "    paper = p[\"_source\"]\n",
    "    topics = [{\"id\":fieldOfStudy[\"id\"],\"name\":fieldOfStudy[\"displayName\"]} for fieldOfStudy in paper[\"fieldsOfStudy\"]]\n",
    "    authors = [{\"id\":author[\"id\"],\"name\":author[\"displayName\"]} for author in paper[\"authors\"]]\n",
    "    publishedDate = None\n",
    "    publication = None\n",
    "    if paper[\"venueInfo\"]:\n",
    "        venue = paper[\"venueInfo\"]\n",
    "        publication = {\"id\":venue[\"id\"],\"name\":venue[\"displayName\"]}\n",
    "        publishedDate = venue[\"publishedDate\"]\n",
    "    print(publication)\n",
    "    print(paper[\"displayName\"])\n",
    "print(cleaned_data)"
   ]
  },
  {
   "cell_type": "code",
   "execution_count": null,
   "metadata": {
    "collapsed": true
   },
   "outputs": [],
   "source": []
  }
 ],
 "metadata": {
  "kernelspec": {
   "display_name": "Python 3",
   "language": "python",
   "name": "python3"
  },
  "language_info": {
   "codemirror_mode": {
    "name": "ipython",
    "version": 3
   },
   "file_extension": ".py",
   "mimetype": "text/x-python",
   "name": "python",
   "nbconvert_exporter": "python",
   "pygments_lexer": "ipython3",
   "version": "3.6.2"
  }
 },
 "nbformat": 4,
 "nbformat_minor": 2
}
